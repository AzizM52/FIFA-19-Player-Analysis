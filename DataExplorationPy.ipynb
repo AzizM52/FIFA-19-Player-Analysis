{
 "cells": [
  {
   "cell_type": "code",
   "execution_count": null,
   "metadata": {},
   "outputs": [],
   "source": [
    "import csv\n",
    "from math import sqrt"
   ]
  },
  {
   "cell_type": "code",
   "execution_count": null,
   "metadata": {},
   "outputs": [],
   "source": [
    "x = [] # This list stores the market value of the players\n",
    "y = [] # This list stores the wages of the players\n",
    "z = [] # This list will store the distance between the two quantities"
   ]
  },
  {
   "cell_type": "code",
   "execution_count": null,
   "metadata": {},
   "outputs": [],
   "source": [
    "def getValsWages ():\n",
    "    with open('data.csv') as csvfile:\n",
    "        reader = csv.DictReader(csvfile)\n",
    "        for row in reader:\n",
    "            xTemp = row['Value']\n",
    "            if xTemp.count('M') == 1:\n",
    "                xTemp = xTemp.replace('M','')\n",
    "            elif xTemp.count('K') == 1:\n",
    "                xTemp = xTemp.replace('K','')\n",
    "            xTemp = xTemp.replace('€','')\n",
    "            valInt = float(xTemp) * 1000000\n",
    "            yTemp = row['Wage']\n",
    "            yTemp = yTemp.replace('K','')\n",
    "            yTemp = yTemp.replace('€','')\n",
    "            wageInt = int(yTemp) * 1000 * 52\n",
    "            x.append(valInt)\n",
    "            y.append(wageInt)\n"
   ]
  },
  {
   "cell_type": "code",
   "execution_count": null,
   "metadata": {},
   "outputs": [],
   "source": [
    "def calcManhattanDistance ():\n",
    "    i = 0\n",
    "    while (i < len(x)):\n",
    "        result = (x[i] - y[i])\n",
    "        z.append(result)\n",
    "        i += 1"
   ]
  },
  {
   "cell_type": "code",
   "execution_count": null,
   "metadata": {},
   "outputs": [],
   "source": [
    "getValsWages()\n",
    "calcManhattanDistance()"
   ]
  }
 ],
 "metadata": {
  "kernelspec": {
   "display_name": "Python 3",
   "language": "python",
   "name": "python3"
  },
  "language_info": {
   "codemirror_mode": {
    "name": "ipython",
    "version": 3
   },
   "file_extension": ".py",
   "mimetype": "text/x-python",
   "name": "python",
   "nbconvert_exporter": "python",
   "pygments_lexer": "ipython3",
   "version": "3.7.1"
  }
 },
 "nbformat": 4,
 "nbformat_minor": 2
}
